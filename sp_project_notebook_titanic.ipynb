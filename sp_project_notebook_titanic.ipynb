{
 "cells": [
  {
   "cell_type": "code",
   "execution_count": 1,
   "metadata": {},
   "outputs": [],
   "source": [
    "import os\n",
    "import json\n",
    "from typing import Dict, List\n",
    "import requests\n",
    "import pandas as pd \n",
    "import numpy as np\n",
    "from bs4 import BeautifulSoup\n",
    "import unicodedata\n",
    "import re\n",
    "import nltk\n",
    "from nltk.tokenize.toktok import ToktokTokenizer\n",
    "from nltk.corpus import stopwords\n",
    "\n",
    "from pprint import pprint\n",
    "from requests import get\n",
    "\n",
    "%matplotlib inline\n",
    "import matplotlib.pyplot as plt\n",
    "import seaborn as sns\n",
    "\n",
    "from env import github_token\n",
    "from env import github_username\n",
    "\n",
    "import acquire_titanic\n",
    "\n",
    "import prep\n",
    "\n",
    "from sklearn.model_selection import train_test_split\n",
    "from sklearn.linear_model import LogisticRegression\n",
    "from sklearn.metrics import classification_report, accuracy_score\n",
    "from sklearn.feature_extraction.text import TfidfVectorizer\n",
    "\n"
   ]
  },
  {
   "cell_type": "markdown",
   "metadata": {},
   "source": [
    "Explore dataframes that are repositories that are in a github search of Titanic, and have the most starts. We pulled the top 180 repos"
   ]
  },
  {
   "cell_type": "code",
   "execution_count": 2,
   "metadata": {
    "scrolled": true
   },
   "outputs": [
    {
     "name": "stdout",
     "output_type": "stream",
     "text": [
      "<class 'pandas.core.frame.DataFrame'>\n",
      "RangeIndex: 180 entries, 0 to 179\n",
      "Data columns (total 3 columns):\n",
      "language           170 non-null object\n",
      "readme_contents    180 non-null object\n",
      "repo               180 non-null object\n",
      "dtypes: object(3)\n",
      "memory usage: 4.3+ KB\n"
     ]
    }
   ],
   "source": [
    "# Look at the data frame we have brought in.\n",
    "df = acquire_titanic.scrape_github_data()\n",
    "df.head()\n",
    "df.info()"
   ]
  },
  {
   "cell_type": "code",
   "execution_count": 3,
   "metadata": {},
   "outputs": [
    {
     "data": {
      "text/plain": [
       "180"
      ]
     },
     "execution_count": 3,
     "metadata": {},
     "output_type": "execute_result"
    }
   ],
   "source": [
    "len(df)"
   ]
  },
  {
   "cell_type": "markdown",
   "metadata": {},
   "source": [
    "Some of our repos do not have readme's"
   ]
  },
  {
   "cell_type": "code",
   "execution_count": 4,
   "metadata": {},
   "outputs": [
    {
     "data": {
      "text/html": [
       "<div>\n",
       "<style scoped>\n",
       "    .dataframe tbody tr th:only-of-type {\n",
       "        vertical-align: middle;\n",
       "    }\n",
       "\n",
       "    .dataframe tbody tr th {\n",
       "        vertical-align: top;\n",
       "    }\n",
       "\n",
       "    .dataframe thead th {\n",
       "        text-align: right;\n",
       "    }\n",
       "</style>\n",
       "<table border=\"1\" class=\"dataframe\">\n",
       "  <thead>\n",
       "    <tr style=\"text-align: right;\">\n",
       "      <th></th>\n",
       "      <th>language</th>\n",
       "      <th>readme_contents</th>\n",
       "      <th>repo</th>\n",
       "    </tr>\n",
       "  </thead>\n",
       "  <tbody>\n",
       "    <tr>\n",
       "      <th>6</th>\n",
       "      <td>Jupyter Notebook</td>\n",
       "      <td>error: no README</td>\n",
       "      <td>minsuk-heo/kaggle-titanic</td>\n",
       "    </tr>\n",
       "    <tr>\n",
       "      <th>8</th>\n",
       "      <td>Jupyter Notebook</td>\n",
       "      <td>error: no README</td>\n",
       "      <td>shantnu/Titanic-Machine-Learning</td>\n",
       "    </tr>\n",
       "    <tr>\n",
       "      <th>26</th>\n",
       "      <td>Python</td>\n",
       "      <td>error: no README</td>\n",
       "      <td>mazurkin/titanic</td>\n",
       "    </tr>\n",
       "    <tr>\n",
       "      <th>74</th>\n",
       "      <td>Python</td>\n",
       "      <td>error: no README</td>\n",
       "      <td>codebugged/Titanic</td>\n",
       "    </tr>\n",
       "    <tr>\n",
       "      <th>88</th>\n",
       "      <td>Java</td>\n",
       "      <td>error: no README</td>\n",
       "      <td>joedayz/titanic-javaee7</td>\n",
       "    </tr>\n",
       "    <tr>\n",
       "      <th>90</th>\n",
       "      <td>R</td>\n",
       "      <td>error: no README</td>\n",
       "      <td>GeekyTheory/Taller-Big-Data-R-Titanic-IEEE</td>\n",
       "    </tr>\n",
       "    <tr>\n",
       "      <th>105</th>\n",
       "      <td>Python</td>\n",
       "      <td>error: no README</td>\n",
       "      <td>Mineria/Titanic</td>\n",
       "    </tr>\n",
       "    <tr>\n",
       "      <th>107</th>\n",
       "      <td>Jupyter Notebook</td>\n",
       "      <td>error: no README</td>\n",
       "      <td>MSusik/titanic</td>\n",
       "    </tr>\n",
       "    <tr>\n",
       "      <th>117</th>\n",
       "      <td>JavaScript</td>\n",
       "      <td>error: no README</td>\n",
       "      <td>ravinderpayal/Titanicturer</td>\n",
       "    </tr>\n",
       "    <tr>\n",
       "      <th>121</th>\n",
       "      <td>Jupyter Notebook</td>\n",
       "      <td>error: no README</td>\n",
       "      <td>mayank408/Data-Science-Hands-On</td>\n",
       "    </tr>\n",
       "    <tr>\n",
       "      <th>134</th>\n",
       "      <td>Jupyter Notebook</td>\n",
       "      <td>error: no README</td>\n",
       "      <td>shubhammittal009/Kaggle_titanic_challenge</td>\n",
       "    </tr>\n",
       "    <tr>\n",
       "      <th>141</th>\n",
       "      <td>Python</td>\n",
       "      <td>error: no README</td>\n",
       "      <td>gittb/Titanic-Dataset-Full-Connected-Demo</td>\n",
       "    </tr>\n",
       "    <tr>\n",
       "      <th>150</th>\n",
       "      <td>R</td>\n",
       "      <td>error: no README</td>\n",
       "      <td>aruizga7/TitanicShinyApplication</td>\n",
       "    </tr>\n",
       "    <tr>\n",
       "      <th>153</th>\n",
       "      <td>R</td>\n",
       "      <td>error: no README</td>\n",
       "      <td>eddelbuettel/data-examples</td>\n",
       "    </tr>\n",
       "    <tr>\n",
       "      <th>161</th>\n",
       "      <td>Jupyter Notebook</td>\n",
       "      <td>error: no README</td>\n",
       "      <td>krishnamurthy-a/Titanic-Survival-Prediction</td>\n",
       "    </tr>\n",
       "  </tbody>\n",
       "</table>\n",
       "</div>"
      ],
      "text/plain": [
       "             language   readme_contents  \\\n",
       "6    Jupyter Notebook  error: no README   \n",
       "8    Jupyter Notebook  error: no README   \n",
       "26             Python  error: no README   \n",
       "74             Python  error: no README   \n",
       "88               Java  error: no README   \n",
       "90                  R  error: no README   \n",
       "105            Python  error: no README   \n",
       "107  Jupyter Notebook  error: no README   \n",
       "117        JavaScript  error: no README   \n",
       "121  Jupyter Notebook  error: no README   \n",
       "134  Jupyter Notebook  error: no README   \n",
       "141            Python  error: no README   \n",
       "150                 R  error: no README   \n",
       "153                 R  error: no README   \n",
       "161  Jupyter Notebook  error: no README   \n",
       "\n",
       "                                            repo  \n",
       "6                      minsuk-heo/kaggle-titanic  \n",
       "8               shantnu/Titanic-Machine-Learning  \n",
       "26                              mazurkin/titanic  \n",
       "74                            codebugged/Titanic  \n",
       "88                       joedayz/titanic-javaee7  \n",
       "90    GeekyTheory/Taller-Big-Data-R-Titanic-IEEE  \n",
       "105                              Mineria/Titanic  \n",
       "107                               MSusik/titanic  \n",
       "117                   ravinderpayal/Titanicturer  \n",
       "121              mayank408/Data-Science-Hands-On  \n",
       "134    shubhammittal009/Kaggle_titanic_challenge  \n",
       "141    gittb/Titanic-Dataset-Full-Connected-Demo  \n",
       "150             aruizga7/TitanicShinyApplication  \n",
       "153                   eddelbuettel/data-examples  \n",
       "161  krishnamurthy-a/Titanic-Survival-Prediction  "
      ]
     },
     "execution_count": 4,
     "metadata": {},
     "output_type": "execute_result"
    }
   ],
   "source": [
    "no_readme_df = df[df.readme_contents == 'error: no README']\n",
    "no_readme_df"
   ]
  },
  {
   "cell_type": "code",
   "execution_count": 5,
   "metadata": {},
   "outputs": [
    {
     "data": {
      "text/plain": [
       "15"
      ]
     },
     "execution_count": 5,
     "metadata": {},
     "output_type": "execute_result"
    }
   ],
   "source": [
    "len(no_readme_df)"
   ]
  },
  {
   "cell_type": "code",
   "execution_count": 6,
   "metadata": {},
   "outputs": [],
   "source": [
    "# make a copy of orginal df. This keeps the original df intact\n",
    "#df_prep = df.copy()"
   ]
  },
  {
   "cell_type": "code",
   "execution_count": 7,
   "metadata": {},
   "outputs": [],
   "source": [
    "df = df[df.readme_contents != 'error: no README']"
   ]
  },
  {
   "cell_type": "code",
   "execution_count": 8,
   "metadata": {},
   "outputs": [
    {
     "data": {
      "text/plain": [
       "165"
      ]
     },
     "execution_count": 8,
     "metadata": {},
     "output_type": "execute_result"
    }
   ],
   "source": [
    "len(df)"
   ]
  },
  {
   "cell_type": "code",
   "execution_count": 9,
   "metadata": {
    "scrolled": false
   },
   "outputs": [],
   "source": [
    "df = prep.prep_articles(df)"
   ]
  },
  {
   "cell_type": "code",
   "execution_count": 10,
   "metadata": {},
   "outputs": [
    {
     "data": {
      "text/plain": [
       "'titanicexample'"
      ]
     },
     "execution_count": 10,
     "metadata": {},
     "output_type": "execute_result"
    }
   ],
   "source": [
    "df.clean[112]"
   ]
  },
  {
   "cell_type": "code",
   "execution_count": 11,
   "metadata": {},
   "outputs": [
    {
     "data": {
      "text/html": [
       "<div>\n",
       "<style scoped>\n",
       "    .dataframe tbody tr th:only-of-type {\n",
       "        vertical-align: middle;\n",
       "    }\n",
       "\n",
       "    .dataframe tbody tr th {\n",
       "        vertical-align: top;\n",
       "    }\n",
       "\n",
       "    .dataframe thead th {\n",
       "        text-align: right;\n",
       "    }\n",
       "</style>\n",
       "<table border=\"1\" class=\"dataframe\">\n",
       "  <thead>\n",
       "    <tr style=\"text-align: right;\">\n",
       "      <th></th>\n",
       "      <th>language</th>\n",
       "      <th>repo</th>\n",
       "      <th>original</th>\n",
       "      <th>stemmed</th>\n",
       "      <th>lemmatized</th>\n",
       "      <th>clean</th>\n",
       "    </tr>\n",
       "  </thead>\n",
       "  <tbody>\n",
       "    <tr>\n",
       "      <th>0</th>\n",
       "      <td>JavaScript</td>\n",
       "      <td>icons8/titanic</td>\n",
       "      <td># Titanic\\n\\nA collection of animated icons + ...</td>\n",
       "      <td>titan a collect of anim icon javascript librar...</td>\n",
       "      <td>titanic a collection of animated icon javascri...</td>\n",
       "      <td>collection animated icons javascript library p...</td>\n",
       "    </tr>\n",
       "    <tr>\n",
       "      <th>1</th>\n",
       "      <td>Java</td>\n",
       "      <td>romainpiel/Titanic</td>\n",
       "      <td># Titanic for Android\\n\\nThis library is DEPRE...</td>\n",
       "      <td>titan for android thi librari is deprec as i d...</td>\n",
       "      <td>titanic for android this library is deprecated...</td>\n",
       "      <td>android library deprecated time mainatin anymo...</td>\n",
       "    </tr>\n",
       "    <tr>\n",
       "      <th>2</th>\n",
       "      <td>Jupyter Notebook</td>\n",
       "      <td>agconti/kaggle-titanic</td>\n",
       "      <td>### Kaggle-titanic\\nThis is a tutorial in an I...</td>\n",
       "      <td>kaggletitan thi is a tutori in an ipython note...</td>\n",
       "      <td>kaggletitanic this is a tutorial in an ipython...</td>\n",
       "      <td>kaggletitanic tutorial kaggle competition disa...</td>\n",
       "    </tr>\n",
       "    <tr>\n",
       "      <th>3</th>\n",
       "      <td>Jupyter Notebook</td>\n",
       "      <td>HanXiaoyang/Kaggle_Titanic</td>\n",
       "      <td># Kaggle_Titanic\\nthe data and ipython noteboo...</td>\n",
       "      <td>kaggletitan the data and ipython notebook of m...</td>\n",
       "      <td>kaggletitanic the data and ipython notebook of...</td>\n",
       "      <td>kaggletitanic attempt solve kaggle problem kag...</td>\n",
       "    </tr>\n",
       "    <tr>\n",
       "      <th>4</th>\n",
       "      <td>R</td>\n",
       "      <td>trevorstephens/titanic</td>\n",
       "      <td>Titanic: Machine Learning from Disaster - Gett...</td>\n",
       "      <td>titan machin learn from disast get start with ...</td>\n",
       "      <td>titanic machine learning from disaster getting...</td>\n",
       "      <td>disaster getting started r trevor stephens jan...</td>\n",
       "    </tr>\n",
       "  </tbody>\n",
       "</table>\n",
       "</div>"
      ],
      "text/plain": [
       "           language                        repo  \\\n",
       "0        JavaScript              icons8/titanic   \n",
       "1              Java          romainpiel/Titanic   \n",
       "2  Jupyter Notebook      agconti/kaggle-titanic   \n",
       "3  Jupyter Notebook  HanXiaoyang/Kaggle_Titanic   \n",
       "4                 R      trevorstephens/titanic   \n",
       "\n",
       "                                            original  \\\n",
       "0  # Titanic\\n\\nA collection of animated icons + ...   \n",
       "1  # Titanic for Android\\n\\nThis library is DEPRE...   \n",
       "2  ### Kaggle-titanic\\nThis is a tutorial in an I...   \n",
       "3  # Kaggle_Titanic\\nthe data and ipython noteboo...   \n",
       "4  Titanic: Machine Learning from Disaster - Gett...   \n",
       "\n",
       "                                             stemmed  \\\n",
       "0  titan a collect of anim icon javascript librar...   \n",
       "1  titan for android thi librari is deprec as i d...   \n",
       "2  kaggletitan thi is a tutori in an ipython note...   \n",
       "3  kaggletitan the data and ipython notebook of m...   \n",
       "4  titan machin learn from disast get start with ...   \n",
       "\n",
       "                                          lemmatized  \\\n",
       "0  titanic a collection of animated icon javascri...   \n",
       "1  titanic for android this library is deprecated...   \n",
       "2  kaggletitanic this is a tutorial in an ipython...   \n",
       "3  kaggletitanic the data and ipython notebook of...   \n",
       "4  titanic machine learning from disaster getting...   \n",
       "\n",
       "                                               clean  \n",
       "0  collection animated icons javascript library p...  \n",
       "1  android library deprecated time mainatin anymo...  \n",
       "2  kaggletitanic tutorial kaggle competition disa...  \n",
       "3  kaggletitanic attempt solve kaggle problem kag...  \n",
       "4  disaster getting started r trevor stephens jan...  "
      ]
     },
     "execution_count": 11,
     "metadata": {},
     "output_type": "execute_result"
    }
   ],
   "source": [
    "df.head()"
   ]
  },
  {
   "cell_type": "code",
   "execution_count": 12,
   "metadata": {},
   "outputs": [
    {
     "data": {
      "text/plain": [
       "Jupyter Notebook    74\n",
       "Python              35\n",
       "R                   15\n",
       "NaN                 10\n",
       "HTML                 9\n",
       "JavaScript           6\n",
       "Scala                4\n",
       "Java                 3\n",
       "F#                   2\n",
       "Processing           1\n",
       "PHP                  1\n",
       "Rust                 1\n",
       "C                    1\n",
       "C++                  1\n",
       "Clojure              1\n",
       "OpenEdge ABL         1\n",
       "Name: language, dtype: int64"
      ]
     },
     "execution_count": 12,
     "metadata": {},
     "output_type": "execute_result"
    }
   ],
   "source": [
    "df.language.value_counts(dropna=False)"
   ]
  },
  {
   "cell_type": "code",
   "execution_count": 13,
   "metadata": {},
   "outputs": [
    {
     "data": {
      "text/html": [
       "<div>\n",
       "<style scoped>\n",
       "    .dataframe tbody tr th:only-of-type {\n",
       "        vertical-align: middle;\n",
       "    }\n",
       "\n",
       "    .dataframe tbody tr th {\n",
       "        vertical-align: top;\n",
       "    }\n",
       "\n",
       "    .dataframe thead th {\n",
       "        text-align: right;\n",
       "    }\n",
       "</style>\n",
       "<table border=\"1\" class=\"dataframe\">\n",
       "  <thead>\n",
       "    <tr style=\"text-align: right;\">\n",
       "      <th></th>\n",
       "      <th>n</th>\n",
       "      <th>percent</th>\n",
       "    </tr>\n",
       "  </thead>\n",
       "  <tbody>\n",
       "    <tr>\n",
       "      <th>Jupyter Notebook</th>\n",
       "      <td>74</td>\n",
       "      <td>0.477419</td>\n",
       "    </tr>\n",
       "    <tr>\n",
       "      <th>Python</th>\n",
       "      <td>35</td>\n",
       "      <td>0.225806</td>\n",
       "    </tr>\n",
       "    <tr>\n",
       "      <th>R</th>\n",
       "      <td>15</td>\n",
       "      <td>0.096774</td>\n",
       "    </tr>\n",
       "    <tr>\n",
       "      <th>HTML</th>\n",
       "      <td>9</td>\n",
       "      <td>0.058065</td>\n",
       "    </tr>\n",
       "    <tr>\n",
       "      <th>JavaScript</th>\n",
       "      <td>6</td>\n",
       "      <td>0.038710</td>\n",
       "    </tr>\n",
       "    <tr>\n",
       "      <th>Scala</th>\n",
       "      <td>4</td>\n",
       "      <td>0.025806</td>\n",
       "    </tr>\n",
       "    <tr>\n",
       "      <th>Java</th>\n",
       "      <td>3</td>\n",
       "      <td>0.019355</td>\n",
       "    </tr>\n",
       "    <tr>\n",
       "      <th>F#</th>\n",
       "      <td>2</td>\n",
       "      <td>0.012903</td>\n",
       "    </tr>\n",
       "    <tr>\n",
       "      <th>Processing</th>\n",
       "      <td>1</td>\n",
       "      <td>0.006452</td>\n",
       "    </tr>\n",
       "    <tr>\n",
       "      <th>PHP</th>\n",
       "      <td>1</td>\n",
       "      <td>0.006452</td>\n",
       "    </tr>\n",
       "    <tr>\n",
       "      <th>Rust</th>\n",
       "      <td>1</td>\n",
       "      <td>0.006452</td>\n",
       "    </tr>\n",
       "    <tr>\n",
       "      <th>C</th>\n",
       "      <td>1</td>\n",
       "      <td>0.006452</td>\n",
       "    </tr>\n",
       "    <tr>\n",
       "      <th>C++</th>\n",
       "      <td>1</td>\n",
       "      <td>0.006452</td>\n",
       "    </tr>\n",
       "    <tr>\n",
       "      <th>Clojure</th>\n",
       "      <td>1</td>\n",
       "      <td>0.006452</td>\n",
       "    </tr>\n",
       "    <tr>\n",
       "      <th>OpenEdge ABL</th>\n",
       "      <td>1</td>\n",
       "      <td>0.006452</td>\n",
       "    </tr>\n",
       "  </tbody>\n",
       "</table>\n",
       "</div>"
      ],
      "text/plain": [
       "                   n   percent\n",
       "Jupyter Notebook  74  0.477419\n",
       "Python            35  0.225806\n",
       "R                 15  0.096774\n",
       "HTML               9  0.058065\n",
       "JavaScript         6  0.038710\n",
       "Scala              4  0.025806\n",
       "Java               3  0.019355\n",
       "F#                 2  0.012903\n",
       "Processing         1  0.006452\n",
       "PHP                1  0.006452\n",
       "Rust               1  0.006452\n",
       "C                  1  0.006452\n",
       "C++                1  0.006452\n",
       "Clojure            1  0.006452\n",
       "OpenEdge ABL       1  0.006452"
      ]
     },
     "execution_count": 13,
     "metadata": {},
     "output_type": "execute_result"
    }
   ],
   "source": [
    "labels = pd.concat([df.language.value_counts(),\n",
    "                    df.language.value_counts(normalize=True)], axis=1)\n",
    "labels.columns = ['n', 'percent']\n",
    "labels"
   ]
  },
  {
   "cell_type": "code",
   "execution_count": 14,
   "metadata": {},
   "outputs": [
    {
     "data": {
      "text/plain": [
       "['Jupyter Notebook', 'Python', 'R', 'HTML']"
      ]
     },
     "execution_count": 14,
     "metadata": {},
     "output_type": "execute_result"
    }
   ],
   "source": [
    "top_langs = list(labels[labels.n > 6].index)\n",
    "top_langs"
   ]
  },
  {
   "cell_type": "code",
   "execution_count": 15,
   "metadata": {},
   "outputs": [
    {
     "data": {
      "text/plain": [
       "['JavaScript',\n",
       " 'Scala',\n",
       " 'Java',\n",
       " 'F#',\n",
       " 'Processing',\n",
       " 'PHP',\n",
       " 'Rust',\n",
       " 'C',\n",
       " 'C++',\n",
       " 'Clojure',\n",
       " 'OpenEdge ABL']"
      ]
     },
     "execution_count": 15,
     "metadata": {},
     "output_type": "execute_result"
    }
   ],
   "source": [
    "low_langs = list(labels[labels.n <= 6].index)\n",
    "low_langs"
   ]
  },
  {
   "cell_type": "code",
   "execution_count": 16,
   "metadata": {},
   "outputs": [
    {
     "data": {
      "text/plain": [
       "[74, 35, 15, 9]"
      ]
     },
     "execution_count": 16,
     "metadata": {},
     "output_type": "execute_result"
    }
   ],
   "source": [
    "top_counts = list(labels[labels.n > 6].n)\n",
    "top_counts"
   ]
  },
  {
   "cell_type": "code",
   "execution_count": 17,
   "metadata": {},
   "outputs": [
    {
     "data": {
      "text/plain": [
       "22"
      ]
     },
     "execution_count": 17,
     "metadata": {},
     "output_type": "execute_result"
    }
   ],
   "source": [
    "low_count_total = sum(list(labels[labels.n  <=6].n))\n",
    "low_count_total"
   ]
  },
  {
   "cell_type": "code",
   "execution_count": 18,
   "metadata": {},
   "outputs": [
    {
     "data": {
      "text/plain": [
       "['74 : Jupyter Notebook', '35 : Python', '15 : R', '9 : HTML']"
      ]
     },
     "execution_count": 18,
     "metadata": {},
     "output_type": "execute_result"
    }
   ],
   "source": [
    "langs_counts = []\n",
    "for x in range(len(top_counts)):\n",
    "    langs_counts.append(f'{top_counts[x]} : {top_langs[x]}')\n",
    "langs_counts"
   ]
  },
  {
   "cell_type": "code",
   "execution_count": 19,
   "metadata": {},
   "outputs": [
    {
     "data": {
      "text/plain": [
       "['74 : Jupyter Notebook',\n",
       " '35 : Python',\n",
       " '15 : R',\n",
       " '9 : HTML',\n",
       " '22 : Various Other Languages']"
      ]
     },
     "execution_count": 19,
     "metadata": {},
     "output_type": "execute_result"
    }
   ],
   "source": [
    "langs_counts.append(f'{low_count_total} : Various Other Languages')\n",
    "langs_counts"
   ]
  },
  {
   "cell_type": "code",
   "execution_count": 20,
   "metadata": {},
   "outputs": [
    {
     "data": {
      "text/plain": [
       "[74, 35, 15, 9, 22]"
      ]
     },
     "execution_count": 20,
     "metadata": {},
     "output_type": "execute_result"
    }
   ],
   "source": [
    "counts = []\n",
    "for n in range(len(langs_counts)):\n",
    "    counts.append(int(langs_counts[n].split()[0]))\n",
    "counts"
   ]
  },
  {
   "cell_type": "code",
   "execution_count": 21,
   "metadata": {},
   "outputs": [],
   "source": [
    "import explore_charts"
   ]
  },
  {
   "cell_type": "code",
   "execution_count": 22,
   "metadata": {},
   "outputs": [
    {
     "data": {
      "image/png": "[encoded data removed]",
      "text/plain": [
       "<Figure size 2880x576 with 1 Axes>"
      ]
     },
     "metadata": {},
     "output_type": "display_data"
    }
   ],
   "source": [
    "plt.rc('font', size = 16 )\n",
    "explore_charts.donut_chart(langs_counts, counts)"
   ]
  },
  {
   "cell_type": "code",
   "execution_count": 23,
   "metadata": {
    "scrolled": true
   },
   "outputs": [
    {
     "data": {
      "text/plain": [
       "<matplotlib.axes._subplots.AxesSubplot at 0x1a1eb5a1d0>"
      ]
     },
     "execution_count": 23,
     "metadata": {},
     "output_type": "execute_result"
    },
    {
     "data": {
      "image/png": "[encoded data removed]",
      "text/plain": [
       "<Figure size 1800x1800 with 1 Axes>"
      ]
     },
     "metadata": {
      "needs_background": "light"
     },
     "output_type": "display_data"
    }
   ],
   "source": [
    "# explore the distribution of languages.\n",
    "plt.rc('font', size=16)\n",
    "plt.figure(figsize = (25,25))\n",
    "labels.n.plot.bar()"
   ]
  },
  {
   "cell_type": "code",
   "execution_count": 24,
   "metadata": {},
   "outputs": [
    {
     "data": {
      "text/plain": [
       "Index(['language', 'repo', 'original', 'stemmed', 'lemmatized', 'clean'], dtype='object')"
      ]
     },
     "execution_count": 24,
     "metadata": {},
     "output_type": "execute_result"
    }
   ],
   "source": [
    "df.columns"
   ]
  },
  {
   "cell_type": "markdown",
   "metadata": {},
   "source": [
    "looking"
   ]
  },
  {
   "cell_type": "code",
   "execution_count": null,
   "metadata": {},
   "outputs": [],
   "source": [
    "easy_df = df.drop(columns =(['repo', 'original', 'stemmed', 'lemmatized']))\n",
    "easy_df"
   ]
  },
  {
   "cell_type": "code",
   "execution_count": null,
   "metadata": {},
   "outputs": [],
   "source": [
    "breakouts = pd.concat([easy_df.language.value_counts(),\n",
    "                    easy_df.language.value_counts(normalize=True)], axis=1)\n",
    "breakouts.columns = ['n', 'percent']\n",
    "breakouts"
   ]
  },
  {
   "cell_type": "code",
   "execution_count": null,
   "metadata": {},
   "outputs": [],
   "source": [
    "all_text = \" \".join(easy_df.clean)\n",
    "all_text = all_text.split()\n",
    "all_text_counts = pd.Series(all_text).value_counts()\n",
    "\n",
    "javascript_text = \" \".join(easy_df[easy_df.language == \"JavaScript\"].clean)\n",
    "javascript_text = javascript_text.split()\n",
    "javascript_text_counts = pd.Series(javascript_text).value_counts()\n",
    "\n",
    "jupyter_text = \" \".join(easy_df[easy_df.language == \"Jupyter Notebook\"].clean)\n",
    "jupyter_text = jupyter_text.split()\n",
    "jupyter_text_counts = pd.Series(jupyter_text).value_counts()\n",
    "\n",
    "python_text = \" \".join(easy_df[easy_df.language == \"Python\"].clean)\n",
    "python_text = python_text.split()\n",
    "python_text_counts = pd.Series(python_text).value_counts()\n",
    "\n",
    "java_text = \" \".join(easy_df[easy_df.language == \"Java\"].clean)\n",
    "java_text = java_text.split()\n",
    "java_text_counts = pd.Series(java_text).value_counts()\n",
    "\n",
    "cplus_text = \" \".join(easy_df[easy_df.language == \"C++\"].clean)\n",
    "cplus_text = cplus_text.split()\n",
    "cplus_text_counts = pd.Series(cplus_text).value_counts()\n",
    "\n",
    "go_text = \" \".join(easy_df[easy_df.language == \"Go\"].clean)\n",
    "go_text = go_text.split()\n",
    "go_text_counts = pd.Series(go_text).value_counts()\n"
   ]
  },
  {
   "cell_type": "code",
   "execution_count": null,
   "metadata": {},
   "outputs": [],
   "source": [
    "word_counts = (pd.concat([all_text_counts, javascript_text_counts, jupyter_text_counts, python_text_counts, java_text_counts, cplus_text_counts, go_text_counts], axis=1, sort=True)\n",
    "                .set_axis(['all', 'javascript', 'jupyter', 'python', 'java', 'cplus', 'go'], axis=1, inplace=False)\n",
    "                .fillna(0)\n",
    "                .apply(lambda s: s.astype(int)))\n",
    "word_counts"
   ]
  },
  {
   "cell_type": "code",
   "execution_count": null,
   "metadata": {},
   "outputs": [],
   "source": [
    "word_counts.sort_values(by='all', ascending=False\n",
    "                       ).head(10)"
   ]
  },
  {
   "cell_type": "code",
   "execution_count": null,
   "metadata": {},
   "outputs": [],
   "source": [
    "pd.concat([word_counts[word_counts.javascript == 0].sort_values(by='javascript').tail(6),\n",
    "           word_counts[word_counts.jupyter == 0].sort_values(by='jupyter').tail(6),\n",
    "          word_counts[word_counts.python == 0].sort_values(by='python').tail(6),\n",
    "           word_counts[word_counts.java == 0].sort_values(by='java').tail(6),\n",
    "           word_counts[word_counts.cplus == 0].sort_values(by='cplus').tail(6),\n",
    "           word_counts[word_counts.go == 0].sort_values(by='go').tail(6)])"
   ]
  },
  {
   "cell_type": "code",
   "execution_count": null,
   "metadata": {},
   "outputs": [],
   "source": [
    "top_20_text_bigrams = (pd.Series(nltk.ngrams(all_text, 2))\n",
    "                      .value_counts()\n",
    "                      .head(20))\n",
    "\n",
    "top_20_javascript = (pd.Series(nltk.ngrams(python_text, 2))\n",
    "                      .value_counts()\n",
    "                      .head(20))\n",
    "\n",
    "top_20_jupyter_bigrams = (pd.Series(nltk.ngrams(jupyter_text, 2))\n",
    "                      .value_counts()\n",
    "                      .head(20))\n",
    "\n",
    "top_20_python_bigrams = (pd.Series(nltk.ngrams(python_text, 2))\n",
    "                      .value_counts()\n",
    "                      .head(20))\n",
    "\n",
    "top_20_java_bigrams = (pd.Series(nltk.ngrams(java_text, 2))\n",
    "                      .value_counts()\n",
    "                      .head(20))\n",
    "\n",
    "\n",
    "\n",
    "top_20_cplus_bigrams = (pd.Series(nltk.ngrams(cplus_text, 2))\n",
    "                      .value_counts()\n",
    "                      .head(20))\n",
    "\n",
    "top_20_go_bigrams = (pd.Series(nltk.ngrams(go_text, 2))\n",
    "                      .value_counts()\n",
    "                      .head(20))"
   ]
  },
  {
   "cell_type": "code",
   "execution_count": null,
   "metadata": {},
   "outputs": [],
   "source": []
  },
  {
   "cell_type": "markdown",
   "metadata": {},
   "source": [
    "# Modeling"
   ]
  },
  {
   "cell_type": "code",
   "execution_count": null,
   "metadata": {},
   "outputs": [],
   "source": [
    "tfidf = TfidfVectorizer()\n",
    "tfidf"
   ]
  },
  {
   "cell_type": "code",
   "execution_count": null,
   "metadata": {},
   "outputs": [],
   "source": [
    "# drop where language == None\n",
    "easy_df = easy_df[easy_df.language.isna() == False]"
   ]
  },
  {
   "cell_type": "code",
   "execution_count": null,
   "metadata": {},
   "outputs": [],
   "source": [
    "value_counts_df = pd.DataFrame(easy_df.language.value_counts(dropna = False))\n",
    "value_counts_df"
   ]
  },
  {
   "cell_type": "code",
   "execution_count": null,
   "metadata": {},
   "outputs": [],
   "source": [
    "one_doc_langs = list(value_counts_df[value_counts_df.language < 2].index)\n",
    "one_doc_langs"
   ]
  },
  {
   "cell_type": "code",
   "execution_count": null,
   "metadata": {},
   "outputs": [],
   "source": [
    "for x in one_doc_langs:\n",
    "    easy_df = easy_df[easy_df.language != x]"
   ]
  },
  {
   "cell_type": "code",
   "execution_count": null,
   "metadata": {},
   "outputs": [],
   "source": [
    "easy_df.language.value_counts()"
   ]
  },
  {
   "cell_type": "code",
   "execution_count": null,
   "metadata": {},
   "outputs": [],
   "source": [
    "X = tfidf.fit_transform(easy_df.clean)\n",
    "X"
   ]
  },
  {
   "cell_type": "code",
   "execution_count": null,
   "metadata": {},
   "outputs": [],
   "source": [
    "y= easy_df.language\n",
    "y.head()"
   ]
  },
  {
   "cell_type": "code",
   "execution_count": null,
   "metadata": {},
   "outputs": [],
   "source": [
    "X_train, X_test, y_train, y_test = train_test_split(X,y, stratify = y, test_size = .3)"
   ]
  },
  {
   "cell_type": "code",
   "execution_count": null,
   "metadata": {
    "scrolled": true
   },
   "outputs": [],
   "source": [
    "train = pd.DataFrame(dict(acutal = y_train))\n",
    "train.head()"
   ]
  },
  {
   "cell_type": "code",
   "execution_count": null,
   "metadata": {},
   "outputs": [],
   "source": [
    "test = pd.DataFrame(dict(actual=y_test))\n",
    "test.head()"
   ]
  },
  {
   "cell_type": "code",
   "execution_count": null,
   "metadata": {},
   "outputs": [],
   "source": [
    "lm = LogisticRegression().fit(X_train, y_train)\n",
    "lm"
   ]
  },
  {
   "cell_type": "code",
   "execution_count": null,
   "metadata": {},
   "outputs": [],
   "source": [
    "train['predicted'] = lm.predict(X_train)\n",
    "test['predicted'] = lm.predict(X_test)"
   ]
  },
  {
   "cell_type": "code",
   "execution_count": null,
   "metadata": {},
   "outputs": [],
   "source": [
    "train"
   ]
  },
  {
   "cell_type": "code",
   "execution_count": null,
   "metadata": {},
   "outputs": [],
   "source": [
    "accuracy_score(train.acutal, train.predicted)"
   ]
  },
  {
   "cell_type": "code",
   "execution_count": null,
   "metadata": {},
   "outputs": [],
   "source": [
    "80/163"
   ]
  },
  {
   "cell_type": "code",
   "execution_count": null,
   "metadata": {},
   "outputs": [],
   "source": [
    "accuracy_score(test.actual, test.predicted)"
   ]
  },
  {
   "cell_type": "code",
   "execution_count": null,
   "metadata": {},
   "outputs": [],
   "source": [
    "print(classification_report(train.acutal, train.predicted))"
   ]
  },
  {
   "cell_type": "code",
   "execution_count": null,
   "metadata": {},
   "outputs": [],
   "source": [
    "pd.crosstab(train.predicted, train.acutal)"
   ]
  },
  {
   "cell_type": "code",
   "execution_count": null,
   "metadata": {},
   "outputs": [],
   "source": [
    "easy_df = easy_df[easy_df.clean != 'error readme']\n",
    "easy_df.head()"
   ]
  },
  {
   "cell_type": "code",
   "execution_count": null,
   "metadata": {},
   "outputs": [],
   "source": [
    "from sklearn.tree import DecisionTreeClassifier\n",
    "from sklearn.tree import export_graphviz"
   ]
  },
  {
   "cell_type": "code",
   "execution_count": null,
   "metadata": {},
   "outputs": [],
   "source": []
  },
  {
   "cell_type": "code",
   "execution_count": null,
   "metadata": {},
   "outputs": [],
   "source": [
    "X_train, X_test, y_train, y_test = train_test_split(X, y, stratify = y, test_size = .30, random_state = 123)\n",
    "#X_train.head()"
   ]
  },
  {
   "cell_type": "code",
   "execution_count": null,
   "metadata": {},
   "outputs": [],
   "source": [
    "clf = DecisionTreeClassifier(criterion='entropy', max_depth=2, random_state=123)\n"
   ]
  },
  {
   "cell_type": "code",
   "execution_count": null,
   "metadata": {},
   "outputs": [],
   "source": [
    "clf.fit(X_train, y_train)\n"
   ]
  },
  {
   "cell_type": "code",
   "execution_count": null,
   "metadata": {},
   "outputs": [],
   "source": [
    "clf.score(X_train, y_train)"
   ]
  },
  {
   "cell_type": "code",
   "execution_count": null,
   "metadata": {},
   "outputs": [],
   "source": [
    "clf.score(X_test, y_test)"
   ]
  },
  {
   "cell_type": "code",
   "execution_count": null,
   "metadata": {},
   "outputs": [],
   "source": [
    "from sklearn.ensemble import RandomForestClassifier\n",
    "from sklearn.metrics import classification_report"
   ]
  },
  {
   "cell_type": "code",
   "execution_count": null,
   "metadata": {},
   "outputs": [],
   "source": [
    "rf = RandomForestClassifier(bootstrap=True, \n",
    "                            class_weight=None, \n",
    "                            criterion='gini',\n",
    "                            min_samples_leaf=3,\n",
    "                            n_estimators=100,\n",
    "                            max_depth=5, \n",
    "                            random_state=123)"
   ]
  },
  {
   "cell_type": "code",
   "execution_count": null,
   "metadata": {},
   "outputs": [],
   "source": [
    "rf.fit(X_train, y_train)"
   ]
  },
  {
   "cell_type": "code",
   "execution_count": null,
   "metadata": {},
   "outputs": [],
   "source": [
    "y_pred = rf.predict(X_train)"
   ]
  },
  {
   "cell_type": "code",
   "execution_count": null,
   "metadata": {},
   "outputs": [],
   "source": [
    "rf.score(X_train,y_train)"
   ]
  },
  {
   "cell_type": "code",
   "execution_count": null,
   "metadata": {},
   "outputs": [],
   "source": [
    "rf.score(X_test, y_test)"
   ]
  },
  {
   "cell_type": "code",
   "execution_count": null,
   "metadata": {},
   "outputs": [],
   "source": [
    "from sklearn.preprocessing import PolynomialFeatures"
   ]
  },
  {
   "cell_type": "code",
   "execution_count": null,
   "metadata": {},
   "outputs": [],
   "source": [
    "poly = PolynomialFeatures(2)\n",
    "poly"
   ]
  },
  {
   "cell_type": "code",
   "execution_count": null,
   "metadata": {},
   "outputs": [],
   "source": [
    "poly.fit(X_train, y_train)"
   ]
  },
  {
   "cell_type": "code",
   "execution_count": null,
   "metadata": {},
   "outputs": [],
   "source": [
    "poly.fit_transform(X_train)"
   ]
  },
  {
   "cell_type": "code",
   "execution_count": null,
   "metadata": {},
   "outputs": [],
   "source": [
    "lm = LogisticRegression().fit(X_train, y_train)\n"
   ]
  },
  {
   "cell_type": "code",
   "execution_count": null,
   "metadata": {},
   "outputs": [],
   "source": []
  }
 ],
 "metadata": {
  "kernelspec": {
   "display_name": "Python 3",
   "language": "python",
   "name": "python3"
  },
  "language_info": {
   "codemirror_mode": {
    "name": "ipython",
    "version": 3
   },
   "file_extension": ".py",
   "mimetype": "text/x-python",
   "name": "python",
   "nbconvert_exporter": "python",
   "pygments_lexer": "ipython3",
   "version": "3.7.3"
  }
 },
 "nbformat": 4,
 "nbformat_minor": 2
}
