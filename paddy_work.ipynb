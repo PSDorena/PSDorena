{
 "cells": [
  {
   "cell_type": "code",
   "execution_count": 18,
   "metadata": {},
   "outputs": [],
   "source": [
    "from requests import get\n",
    "from bs4 import BeautifulSoup\n",
    "import os\n",
    "import pandas as pd\n"
   ]
  },
  {
   "cell_type": "code",
   "execution_count": 46,
   "metadata": {},
   "outputs": [],
   "source": [
    "def make_dictionary_from_article(url): \n",
    "    # Set header and user agent to increase likelihood that your request get the response you want\n",
    "    headers = {'user-agent': 'Codeup Bayes Student'}\n",
    "\n",
    "    # This is the actual HTTP GET request that python will send across the internet\n",
    "    response = get(url, headers=headers)\n",
    "\n",
    "    # response.text is a single string of all the html from that page\n",
    "    soup = BeautifulSoup(response.text, 'html.parser')\n",
    "\n",
    "    title = soup.select(\"span\", class_=\"itemprop\")\n",
    "    #title.text\n",
    "    #body = soup.select(\"itemprop = text\")[0].get_text()\n",
    "\n",
    "    output = {}\n",
    "    output[\"title\"] = title\n",
    "    #output[\"body\"] = body\n",
    "    return output"
   ]
  },
  {
   "cell_type": "code",
   "execution_count": 47,
   "metadata": {},
   "outputs": [],
   "source": [
    "def make_new_request():\n",
    "    urls = [\n",
    "        \"https://github.com/rdpeng/ProgrammingAssignment2\"\n",
    "    ]\n",
    "\n",
    "    output = []\n",
    "    \n",
    "    for url in urls:\n",
    "        article_dictionary = make_dictionary_from_article(url)\n",
    "        output.append(article_dictionary)\n",
    "\n",
    "    df = pd.DataFrame(output)\n",
    "    df.to_csv('./test_run_.csv') \n",
    "\n",
    "    return df"
   ]
  },
  {
   "cell_type": "code",
   "execution_count": 49,
   "metadata": {},
   "outputs": [],
   "source": [
    "ee = make_new_request()"
   ]
  },
  {
   "cell_type": "code",
   "execution_count": 120,
   "metadata": {},
   "outputs": [
    {
     "data": {
      "text/plain": [
       "[]"
      ]
     },
     "execution_count": 120,
     "metadata": {},
     "output_type": "execute_result"
    }
   ],
   "source": [
    "url = 'https://github.com/rdpeng/ProgrammingAssignment2'\n",
    "headers = {'User-Agent': 'Codeup Bayes Data Science'} # codeup.com doesn't like our default user-agent\n",
    "response = get(url, headers=headers)\n",
    "# soup = BeautifulSoup(response.content, 'html.parser')\n",
    "# title = soup.find('span', itemprop = 'about').text\n",
    "# body = soup.select('article.markdown-body entry-content p-5.itemprop')\n",
    "# body"
   ]
  },
  {
   "cell_type": "code",
   "execution_count": 130,
   "metadata": {},
   "outputs": [
    {
     "data": {
      "text/plain": [
       "'R'"
      ]
     },
     "execution_count": 130,
     "metadata": {},
     "output_type": "execute_result"
    }
   ],
   "source": [
    "soup = BeautifulSoup(response.content, 'html.parser')\n",
    "lang = soup.find('span', class_='lang').text\n",
    "title = soup.find('span', itemprop = 'about').text\n",
    "body = soup.select('article.markdown-body')[0].text\n",
    " \n",
    "output = {}\n",
    "    output['language'] = lang\n",
    "    output[\"title\"] = title\n",
    "    output[\"body\"] = body\n",
    "    \n",
    "    "
   ]
  },
  {
   "cell_type": "code",
   "execution_count": 135,
   "metadata": {},
   "outputs": [
    {
     "data": {
      "text/plain": [
       "48"
      ]
     },
     "execution_count": 135,
     "metadata": {},
     "output_type": "execute_result"
    }
   ],
   "source": [
    "#def make_new_request():\n",
    "urls = [\n",
    "        'https://github.com/rdpeng/ProgrammingAssignment2',\n",
    "        'https://github.com/tensorflow/tensorflow',\n",
    "        \"https://github.com/SmartThingsCommunity/SmartThingsPublic\",\n",
    "        \"https://github.com/tensorflow/model\",\n",
    "        \"https://github.com/nightscout/cgm-remote-monitor\",\n",
    "        \"https://github.com/opencv/opencv\",\n",
    "        \"https://github.com/opencv/opencv\",\n",
    "        'https://github.com/torvalds/linux',\n",
    "        'https://github.com/angular/angular.js',\n",
    "        'https://github.com/eugenp/tutorials',\n",
    "        'https://github.com/DataScienceSpecialization/courses',\n",
    "        'https://github.com/jackfrued/Python-100-Days',\n",
    "        'https://github.com/spring-projects/spring-boot',\n",
    "        'https://github.com/jlord/patchwork',\n",
    "        'https://github.com/Pierian-Data/Complete-Python-3-Bootcamp',\n",
    "        'https://github.com/udacity/frontend-nanodegree-resume',\n",
    "        'https://github.com/freeCodeCamp/freeCodeCamp',\n",
    "        'https://github.com/vuejs/vue',\n",
    "        'https://github.com/spring-projects/spring-framework',\n",
    "        'https://github.com/mrdoob/three.js',\n",
    "        'https://github.com/scikit-learn/scikit-learn',\n",
    "        'https://github.com/Snailclimb/JavaGuide',\n",
    "        'https://github.com/d3/d3',\n",
    "        'https://github.com/kubernetes/kubernetes',\n",
    "        'https://github.com/996icu/996.ICU',\n",
    "        'https://github.com/apache/dubbo',\n",
    "        'https://github.com/DefinitelyTyped/DefinitelyTyped',\n",
    "        'https://github.com/django/django',\n",
    "        'https://github.com/ant-design/ant-design',\n",
    "        'https://github.com/shadowsocks/shadowsocks',\n",
    "        'https://github.com/TheAlgorithms/Python',\n",
    "        'https://github.com/jquery/jquery',\n",
    "        'https://github.com/facebook/react-native',\n",
    "        'https://github.com/ohmyzsh/ohmyzsh',\n",
    "        'https://github.com/airbnb/javascript',\n",
    "        'https://github.com/BVLC/caffe',\n",
    "        'https://github.com/git/git',\n",
    "        'https://github.com/ansible/ansible',\n",
    "        'https://github.com/laravel/laravel',\n",
    "        'https://github.com/facebook/create-react-app',\n",
    "        'https://github.com/keras-team/keras',\n",
    "        'https://github.com/iluwatar/java-design-patterns',\n",
    "        'https://github.com/moby/moby',\n",
    "        'https://github.com/aymericdamien/TensorFlow-Examples',\n",
    "        'https://github.com/tastejs/todomvc',''\n",
    "        'https://github.com/reduxjs/redux',\n",
    "        'https://github.com/daneden/animate.css',\n",
    "        'https://github.com/mui-org/material-ui',\n",
    "        'https://github.com/ColorlibHQ/AdminLTE',\n",
    "        'https://github.com/microsoft/vscode',\n",
    "        'https://github.com/ionic-team/ionic',\n",
    "        'https://github.com/pallets/flask',\n",
    "        'https://github.com/donnemartin/system-design-primer',\n",
    "        'https://github.com/reduxjs/redux',\n",
    "        'https://github.com/shadowsocks/shadowsocks-windows',\n",
    "        'https://github.com/hakimel/reveal.js',\n",
    "        'https://github.com/wakaleo/game-of-life',\n",
    "        'https://github.com/atom/atom',\n",
    "        'https://github.com/josephmisiti/awesome-machine-learning',\n",
    "        'https://github.com/heroku/node-js-sample',\n",
    "        'https://github.com/qmk/qmk_firmware',\n",
    "        'https://github.com/protocolbuffers/protobuf',\n",
    "        'https://github.com/electron/electron',\n",
    "        'https://github.com/h5bp/html5-boilerplate',\n",
    "        'https://github.com/FortAwesome/Font-Awesome',\n",
    "        'https://github.com/flutter/flutter',\n",
    "        'https://github.com/udacity/fullstack-nanodegree-vm',\n",
    "        'https://github.com/selfteaching/the-craft-of-selfteaching',\n",
    "        'https://github.com/josephmisiti/awesome-machine-learning',\n",
    "        'https://github.com/shadowsocks/shadowsocks-android',\n",
    "        'https://github.com/qmk/qmk_firmware',\n",
    "        'https://github.com/protocolbuffers/protobuf',\n",
    "        'https://github.com/electron/electron',\n",
    "        'https://github.com/shadowsocks/shadowsocks-android',\n",
    "    \n",
    "        \n",
    "        \n",
    "        \n",
    "        \n",
    "    ]\n",
    "\n",
    "output = []\n",
    "    \n",
    "#     for url in urls:\n",
    "#         article_dictionary = make_dictionary_from_article(url)\n",
    "#         output.append(article_dictionary)\n",
    "\n",
    "#     df = pd.DataFrame(output)\n",
    "#     df.to_csv('./codeup_blog_posts.csv') \n",
    "\n",
    "#     return df\n",
    "len(url)"
   ]
  },
  {
   "cell_type": "code",
   "execution_count": null,
   "metadata": {},
   "outputs": [],
   "source": []
  }
 ],
 "metadata": {
  "kernelspec": {
   "display_name": "Python 3",
   "language": "python",
   "name": "python3"
  },
  "language_info": {
   "codemirror_mode": {
    "name": "ipython",
    "version": 3
   },
   "file_extension": ".py",
   "mimetype": "text/x-python",
   "name": "python",
   "nbconvert_exporter": "python",
   "pygments_lexer": "ipython3",
   "version": "3.7.3"
  }
 },
 "nbformat": 4,
 "nbformat_minor": 2
}
